{
 "cells": [
  {
   "cell_type": "code",
   "execution_count": 1,
   "id": "9e8d476a-3258-44a0-b19a-542c437213eb",
   "metadata": {},
   "outputs": [],
   "source": [
    "import torch\n",
    "from torch import nn\n",
    "from torch import optim\n",
    "from torch.nn import functional as F\n",
    "import torchvision\n",
    "from torchvision import datasets, transforms\n",
    "from torch.utils.data import Dataset\n",
    "from torch.utils.data import DataLoader\n",
    "import matplotlib.pyplot as plt\n",
    "import numpy as np"
   ]
  },
  {
   "cell_type": "code",
   "execution_count": 2,
   "id": "0d95e0ec-071f-45f0-913a-cc6fbec61bda",
   "metadata": {},
   "outputs": [
    {
     "data": {
      "text/plain": [
       "'cuda'"
      ]
     },
     "execution_count": 2,
     "metadata": {},
     "output_type": "execute_result"
    }
   ],
   "source": [
    "device = 'cuda' if torch.cuda.is_available() else 'cpu'\n",
    "device"
   ]
  },
  {
   "cell_type": "code",
   "execution_count": 3,
   "id": "13c8d196-c45c-4f17-a1ea-611384a09e44",
   "metadata": {},
   "outputs": [
    {
     "data": {
      "text/plain": [
       "<torch._C.Generator at 0x1fa09ced510>"
      ]
     },
     "execution_count": 3,
     "metadata": {},
     "output_type": "execute_result"
    }
   ],
   "source": [
    "n_epochs = 50\n",
    "batch_size_train = 64\n",
    "batch_size_test = 1000\n",
    "learning_rate = 0.01\n",
    "momentum = 0.5\n",
    "log_interval = 10\n",
    "loss_fct = nn.CrossEntropyLoss()\n",
    "\n",
    "random_seed = 1\n",
    "torch.backends.cudnn.enabled = False\n",
    "torch.manual_seed(random_seed)"
   ]
  },
  {
   "cell_type": "code",
   "execution_count": 4,
   "id": "3c4dd840-8bd4-4ee4-b2d4-0cae2a04df38",
   "metadata": {},
   "outputs": [
    {
     "name": "stdout",
     "output_type": "stream",
     "text": [
      "Files already downloaded and verified\n",
      "Files already downloaded and verified\n"
     ]
    }
   ],
   "source": [
    "training_data = datasets.CIFAR10(\n",
    "    root=\"data\",\n",
    "    train=True,\n",
    "    download=True,\n",
    "    transform=transforms.Compose([\n",
    "        transforms.RandomHorizontalFlip(),\n",
    "        transforms.ColorJitter(),\n",
    "        transforms.ToTensor(),\n",
    "        transforms.Normalize(0.5, 0.5)\n",
    "    ])\n",
    ")\n",
    "\n",
    "test_data = datasets.CIFAR10(\n",
    "    root=\"data\",\n",
    "    train=False,\n",
    "    download=True,\n",
    "    transform=transforms.Compose([\n",
    "        transforms.ToTensor(),\n",
    "        transforms.Normalize(0.5, 0.5)\n",
    "    ])\n",
    ")"
   ]
  },
  {
   "cell_type": "code",
   "execution_count": 5,
   "id": "cb976e48-4963-4580-ae0f-22d88fa7a0eb",
   "metadata": {},
   "outputs": [],
   "source": [
    "train_loader = torch.utils.data.DataLoader(training_data, batch_size=batch_size_train, shuffle=True)\n",
    "test_loader = torch.utils.data.DataLoader(test_data, batch_size=batch_size_test, shuffle=True)"
   ]
  },
  {
   "cell_type": "code",
   "execution_count": 6,
   "id": "cc684d3a-796a-4262-8a2e-4319440688eb",
   "metadata": {},
   "outputs": [],
   "source": [
    "class Net(nn.Module):\n",
    "    def __init__(self):\n",
    "        super(Net, self).__init__()\n",
    "        self.conv1 = nn.Conv2d(3, 32, kernel_size=3, padding=1)\n",
    "        self.conv_norm1 = nn.BatchNorm2d(32)\n",
    "        self.conv2 = nn.Conv2d(32, 64, kernel_size=3, padding=1)\n",
    "        self.conv_norm2 = nn.BatchNorm2d(64)\n",
    "        self.conv3 = nn.Conv2d(64, 128, kernel_size=3, padding=1)\n",
    "        self.conv_norm3 = nn.BatchNorm2d(128)\n",
    "        \n",
    "        self.conv_drop = nn.Dropout2d(0.3)\n",
    "        \n",
    "        self.fc1 = nn.Linear(4*4*128, 1024)\n",
    "        self.fc2 = nn.Linear(1024, 512)\n",
    "        self.fc3 = nn.Linear(512, 10)\n",
    "\n",
    "    def forward(self, x):\n",
    "        x = self.conv1(x)\n",
    "        x = self.conv_norm1(x)\n",
    "        x = F.leaky_relu(x)\n",
    "        x = self.conv_drop(x)\n",
    "        x = F.max_pool2d(x ,2)\n",
    "        \n",
    "        x = self.conv2(x)\n",
    "        x = self.conv_norm2(x)\n",
    "        x = F.leaky_relu(x)\n",
    "        x = self.conv_drop(x)\n",
    "        x = F.max_pool2d(x ,2)\n",
    "        \n",
    "        x = self.conv3(x)\n",
    "        x = self.conv_norm3(x)\n",
    "        x = F.leaky_relu(x)\n",
    "        x = self.conv_drop(x)\n",
    "        x = F.max_pool2d(x, 2)\n",
    "        \n",
    "        x = x.view(-1, 4*4*128)\n",
    "        x = F.relu(self.fc1(x))\n",
    "        x = F.dropout(x, training=self.training)\n",
    "        x = F.relu(self.fc2(x))\n",
    "        x = F.dropout(x, training=self.training)\n",
    "        x = self.fc3(x)\n",
    "        return F.log_softmax(x, -1)"
   ]
  },
  {
   "cell_type": "code",
   "execution_count": 7,
   "id": "44554ae6-dc44-437b-a861-a8afcf8d33a5",
   "metadata": {},
   "outputs": [],
   "source": [
    "network = Net().to(device)\n",
    "optimizer = optim.SGD(network.parameters(), lr=learning_rate,\n",
    "                      momentum=momentum)"
   ]
  },
  {
   "cell_type": "code",
   "execution_count": 8,
   "id": "40ea2464-4676-422a-b79e-d445446dcb2a",
   "metadata": {},
   "outputs": [],
   "source": [
    "train_losses = []\n",
    "train_counter = []\n",
    "test_losses = []\n",
    "test_counter = [i*len(train_loader.dataset) for i in range(n_epochs)]\n",
    "test_correct = []"
   ]
  },
  {
   "cell_type": "code",
   "execution_count": 9,
   "id": "e91f57ac-8d56-4e91-afb3-df4862a9e6ce",
   "metadata": {},
   "outputs": [],
   "source": [
    "def train(epoch):\n",
    "    network.train()\n",
    "    for batch_idx, (data, target) in enumerate(train_loader):\n",
    "        data = data.to(device)\n",
    "        target = target.to(device)\n",
    "        optimizer.zero_grad()\n",
    "        output = network(data)\n",
    "        loss = F.nll_loss(output, target)\n",
    "        loss.backward()\n",
    "        optimizer.step()\n",
    "        if batch_idx % log_interval == 0:\n",
    "            print('Epoch {} ({:.0f}%) \\tLoss: {:.6f}'.format(\n",
    "                epoch,\n",
    "                100. * batch_idx / len(train_loader), loss.item()), end=\"\\r\")\n",
    "            train_losses.append(loss.item())\n",
    "            train_counter.append(\n",
    "                (batch_idx*64) + ((epoch-1)*len(train_loader.dataset)))"
   ]
  },
  {
   "cell_type": "code",
   "execution_count": 10,
   "id": "b2a23bfb-3c5f-49e2-8242-f2765489fd92",
   "metadata": {},
   "outputs": [],
   "source": [
    "def test():\n",
    "    network.eval()\n",
    "    test_loss = 0\n",
    "    correct = 0\n",
    "    with torch.no_grad():\n",
    "        for data, target in test_loader:\n",
    "            data = data.to(device)\n",
    "            target = target.to(device)\n",
    "            output = network(data)\n",
    "            test_loss += F.nll_loss(output, target, reduction='sum').item()\n",
    "            pred = output.data.max(1, keepdim=True)[1]\n",
    "            correct += pred.eq(target.data.view_as(pred)).sum()\n",
    "    test_loss /= len(test_loader.dataset)\n",
    "    test_losses.append(test_loss)\n",
    "    test_correct.append( 100. * correct / len(test_loader.dataset) )\n",
    "    print('\\nTest set --- \\t Loss: {:.4f}, Accuracy: {}/{} ({:.0f}%)\\n'.format(\n",
    "        test_loss, correct, len(test_loader.dataset),\n",
    "        100. * correct / len(test_loader.dataset)))"
   ]
  },
  {
   "cell_type": "code",
   "execution_count": 11,
   "id": "eb8c0548-03be-4697-a076-4dc8690dd77d",
   "metadata": {},
   "outputs": [
    {
     "name": "stdout",
     "output_type": "stream",
     "text": [
      "Epoch 1 (100%) \tLoss: 1.501245\n",
      "Test set --- \t Loss: 1.5357, Accuracy: 4409/10000 (44%)\n",
      "\n",
      "Epoch 2 (100%) \tLoss: 1.637457\n",
      "Test set --- \t Loss: 1.3820, Accuracy: 4986/10000 (50%)\n",
      "\n",
      "Epoch 3 (100%) \tLoss: 1.387566\n",
      "Test set --- \t Loss: 1.2698, Accuracy: 5484/10000 (55%)\n",
      "\n",
      "Epoch 4 (100%) \tLoss: 1.422052\n",
      "Test set --- \t Loss: 1.2013, Accuracy: 5649/10000 (56%)\n",
      "\n",
      "Epoch 5 (100%) \tLoss: 1.546565\n",
      "Test set --- \t Loss: 1.1378, Accuracy: 5941/10000 (59%)\n",
      "\n",
      "Epoch 6 (100%) \tLoss: 1.113385\n",
      "Test set --- \t Loss: 1.1094, Accuracy: 6008/10000 (60%)\n",
      "\n",
      "Epoch 7 (100%) \tLoss: 1.295482\n",
      "Test set --- \t Loss: 1.0478, Accuracy: 6287/10000 (63%)\n",
      "\n",
      "Epoch 8 (100%) \tLoss: 1.498943\n",
      "Test set --- \t Loss: 0.9946, Accuracy: 6435/10000 (64%)\n",
      "\n",
      "Epoch 9 (100%) \tLoss: 1.145203\n",
      "Test set --- \t Loss: 0.9568, Accuracy: 6593/10000 (66%)\n",
      "\n",
      "Epoch 10 (100%) \tLoss: 0.948606\n",
      "Test set --- \t Loss: 0.9699, Accuracy: 6594/10000 (66%)\n",
      "\n",
      "Epoch 11 (100%) \tLoss: 1.220600\n",
      "Test set --- \t Loss: 0.9097, Accuracy: 6867/10000 (69%)\n",
      "\n",
      "Epoch 12 (100%) \tLoss: 1.117425\n",
      "Test set --- \t Loss: 0.8911, Accuracy: 6842/10000 (68%)\n",
      "\n",
      "Epoch 13 (100%) \tLoss: 0.992392\n",
      "Test set --- \t Loss: 0.8624, Accuracy: 6960/10000 (70%)\n",
      "\n",
      "Epoch 14 (100%) \tLoss: 0.961088\n",
      "Test set --- \t Loss: 0.8477, Accuracy: 7041/10000 (70%)\n",
      "\n",
      "Epoch 15 (100%) \tLoss: 1.177823\n",
      "Test set --- \t Loss: 0.8522, Accuracy: 7061/10000 (71%)\n",
      "\n",
      "Epoch 16 (100%) \tLoss: 0.980385\n",
      "Test set --- \t Loss: 0.8413, Accuracy: 7065/10000 (71%)\n",
      "\n",
      "Epoch 17 (100%) \tLoss: 1.012807\n",
      "Test set --- \t Loss: 0.8113, Accuracy: 7208/10000 (72%)\n",
      "\n",
      "Epoch 18 (100%) \tLoss: 0.933259\n",
      "Test set --- \t Loss: 0.7863, Accuracy: 7270/10000 (73%)\n",
      "\n",
      "Epoch 19 (100%) \tLoss: 0.719546\n",
      "Test set --- \t Loss: 0.7767, Accuracy: 7308/10000 (73%)\n",
      "\n",
      "Epoch 20 (100%) \tLoss: 1.029563\n",
      "Test set --- \t Loss: 0.7587, Accuracy: 7372/10000 (74%)\n",
      "\n",
      "Epoch 21 (100%) \tLoss: 1.206751\n",
      "Test set --- \t Loss: 0.7528, Accuracy: 7402/10000 (74%)\n",
      "\n",
      "Epoch 22 (100%) \tLoss: 0.916947\n",
      "Test set --- \t Loss: 0.7504, Accuracy: 7435/10000 (74%)\n",
      "\n",
      "Epoch 23 (100%) \tLoss: 0.822676\n",
      "Test set --- \t Loss: 0.7285, Accuracy: 7481/10000 (75%)\n",
      "\n",
      "Epoch 24 (100%) \tLoss: 1.025871\n",
      "Test set --- \t Loss: 0.7363, Accuracy: 7495/10000 (75%)\n",
      "\n",
      "Epoch 25 (100%) \tLoss: 0.874130\n",
      "Test set --- \t Loss: 0.7372, Accuracy: 7433/10000 (74%)\n",
      "\n",
      "Epoch 26 (100%) \tLoss: 0.819684\n",
      "Test set --- \t Loss: 0.7338, Accuracy: 7436/10000 (74%)\n",
      "\n",
      "Epoch 27 (100%) \tLoss: 0.783859\n",
      "Test set --- \t Loss: 0.7115, Accuracy: 7534/10000 (75%)\n",
      "\n",
      "Epoch 28 (100%) \tLoss: 0.866929\n",
      "Test set --- \t Loss: 0.6911, Accuracy: 7629/10000 (76%)\n",
      "\n",
      "Epoch 29 (100%) \tLoss: 0.910482\n",
      "Test set --- \t Loss: 0.6866, Accuracy: 7642/10000 (76%)\n",
      "\n",
      "Epoch 30 (100%) \tLoss: 1.154019\n",
      "Test set --- \t Loss: 0.6868, Accuracy: 7631/10000 (76%)\n",
      "\n",
      "Epoch 31 (100%) \tLoss: 0.786211\n",
      "Test set --- \t Loss: 0.6917, Accuracy: 7621/10000 (76%)\n",
      "\n",
      "Epoch 32 (100%) \tLoss: 0.594565\n",
      "Test set --- \t Loss: 0.6807, Accuracy: 7644/10000 (76%)\n",
      "\n",
      "Epoch 33 (100%) \tLoss: 0.996897\n",
      "Test set --- \t Loss: 0.6653, Accuracy: 7697/10000 (77%)\n",
      "\n",
      "Epoch 34 (100%) \tLoss: 0.784283\n",
      "Test set --- \t Loss: 0.6626, Accuracy: 7725/10000 (77%)\n",
      "\n",
      "Epoch 35 (100%) \tLoss: 0.956763\n",
      "Test set --- \t Loss: 0.6709, Accuracy: 7656/10000 (77%)\n",
      "\n",
      "Epoch 36 (100%) \tLoss: 0.745516\n",
      "Test set --- \t Loss: 0.6399, Accuracy: 7775/10000 (78%)\n",
      "\n",
      "Epoch 37 (100%) \tLoss: 0.883178\n",
      "Test set --- \t Loss: 0.6329, Accuracy: 7804/10000 (78%)\n",
      "\n",
      "Epoch 38 (100%) \tLoss: 0.806413\n",
      "Test set --- \t Loss: 0.6238, Accuracy: 7860/10000 (79%)\n",
      "\n",
      "Epoch 39 (100%) \tLoss: 0.686109\n",
      "Test set --- \t Loss: 0.6256, Accuracy: 7841/10000 (78%)\n",
      "\n",
      "Epoch 40 (100%) \tLoss: 0.900647\n",
      "Test set --- \t Loss: 0.6274, Accuracy: 7828/10000 (78%)\n",
      "\n",
      "Epoch 41 (100%) \tLoss: 0.884695\n",
      "Test set --- \t Loss: 0.6240, Accuracy: 7837/10000 (78%)\n",
      "\n",
      "Epoch 42 (100%) \tLoss: 0.707648\n",
      "Test set --- \t Loss: 0.6256, Accuracy: 7838/10000 (78%)\n",
      "\n",
      "Epoch 43 (100%) \tLoss: 0.685817\n",
      "Test set --- \t Loss: 0.6136, Accuracy: 7869/10000 (79%)\n",
      "\n",
      "Epoch 44 (100%) \tLoss: 0.779648\n",
      "Test set --- \t Loss: 0.6039, Accuracy: 7957/10000 (80%)\n",
      "\n",
      "Epoch 45 (100%) \tLoss: 0.735237\n",
      "Test set --- \t Loss: 0.6293, Accuracy: 7848/10000 (78%)\n",
      "\n",
      "Epoch 46 (100%) \tLoss: 0.903770\n",
      "Test set --- \t Loss: 0.5980, Accuracy: 7962/10000 (80%)\n",
      "\n",
      "Epoch 47 (100%) \tLoss: 0.650657\n",
      "Test set --- \t Loss: 0.5977, Accuracy: 7927/10000 (79%)\n",
      "\n",
      "Epoch 48 (100%) \tLoss: 0.863012\n",
      "Test set --- \t Loss: 0.6001, Accuracy: 7941/10000 (79%)\n",
      "\n",
      "Epoch 49 (100%) \tLoss: 0.678626\n",
      "Test set --- \t Loss: 0.5987, Accuracy: 7942/10000 (79%)\n",
      "\n",
      "Epoch 50 (100%) \tLoss: 0.868609\n",
      "Test set --- \t Loss: 0.5851, Accuracy: 7990/10000 (80%)\n",
      "\n"
     ]
    }
   ],
   "source": [
    "for epoch in range(1, n_epochs + 1):\n",
    "    train(epoch)\n",
    "    test()"
   ]
  },
  {
   "cell_type": "code",
   "execution_count": 16,
   "id": "9c616271-d785-441a-90e1-ac07a3acce7d",
   "metadata": {},
   "outputs": [
    {
     "data": {
      "text/plain": [
       "Text(0, 0.5, 'negative log likelihood loss')"
      ]
     },
     "execution_count": 16,
     "metadata": {},
     "output_type": "execute_result"
    },
    {
     "data": {
      "image/png": "[encoded data removed]",
      "text/plain": [
       "<Figure size 432x288 with 1 Axes>"
      ]
     },
     "metadata": {
      "needs_background": "light"
     },
     "output_type": "display_data"
    }
   ],
   "source": [
    "fig = plt.figure()\n",
    "plt.plot(train_counter, train_losses, color='blue')\n",
    "plt.scatter(test_counter, test_losses, color='red', zorder=10)\n",
    "plt.legend(['Train Loss', 'Test Loss'], loc='upper right')\n",
    "plt.xlabel('number of training examples seen')\n",
    "plt.ylabel('negative log likelihood loss')"
   ]
  },
  {
   "cell_type": "code",
   "execution_count": 17,
   "id": "e4a0abfc-f405-4c89-be92-287e03df4aa2",
   "metadata": {},
   "outputs": [
    {
     "data": {
      "text/plain": [
       "<matplotlib.collections.PathCollection at 0x1fa5d240bb0>"
      ]
     },
     "execution_count": 17,
     "metadata": {},
     "output_type": "execute_result"
    },
    {
     "data": {
      "image/png": "[encoded data removed]",
      "text/plain": [
       "<Figure size 432x288 with 1 Axes>"
      ]
     },
     "metadata": {
      "needs_background": "light"
     },
     "output_type": "display_data"
    }
   ],
   "source": [
    "fig = plt.figure()\n",
    "plt.scatter(test_counter, [x.cpu() for x in test_correct], color='red',)"
   ]
  }
 ],
 "metadata": {
  "kernelspec": {
   "display_name": "Python 3",
   "language": "python",
   "name": "python3"
  },
  "language_info": {
   "codemirror_mode": {
    "name": "ipython",
    "version": 3
   },
   "file_extension": ".py",
   "mimetype": "text/x-python",
   "name": "python",
   "nbconvert_exporter": "python",
   "pygments_lexer": "ipython3",
   "version": "3.6.9"
  }
 },
 "nbformat": 4,
 "nbformat_minor": 5
}
